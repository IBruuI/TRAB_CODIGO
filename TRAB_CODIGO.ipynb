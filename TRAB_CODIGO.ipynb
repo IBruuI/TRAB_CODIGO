{
  "nbformat": 4,
  "nbformat_minor": 0,
  "metadata": {
    "colab": {
      "provenance": [],
      "authorship_tag": "ABX9TyNQbRkEZwBUUPCZzROsmHC1",
      "include_colab_link": true
    },
    "kernelspec": {
      "name": "python3",
      "display_name": "Python 3"
    },
    "language_info": {
      "name": "python"
    }
  },
  "cells": [
    {
      "cell_type": "markdown",
      "metadata": {
        "id": "view-in-github",
        "colab_type": "text"
      },
      "source": [
        "<a href=\"https://colab.research.google.com/github/IBruuI/TRAB_CODIGO/blob/main/TRAB_CODIGO.ipynb\" target=\"_parent\"><img src=\"https://colab.research.google.com/assets/colab-badge.svg\" alt=\"Open In Colab\"/></a>"
      ]
    },
    {
      "cell_type": "code",
      "execution_count": null,
      "metadata": {
        "id": "eSTZ12tgKEXi"
      },
      "outputs": [],
      "source": [
        "from datetime import datetime\n",
        "\n",
        "def nova_admissao():\n",
        "    return []\n",
        "\n",
        "def adicionar_colaborador(admissao, nome, telefone, cpf, sexo, nascimento, cargo, setor):\n",
        "    colaborador = {\"nome\": nome, \"telefone\": telefone, \"cpf\": cpf, \"sexo\": sexo, \"nascimento\": nascimento, \"cargo\": cargo, \"setor\": setor}\n",
        "    admissao.append(colaborador)\n",
        "\n",
        "def listar_colaboradores(admissao):\n",
        "    if not admissao:\n",
        "        print(\"Não há colaboradores cadastrados.\")\n",
        "    else:\n",
        "        print(\"Lista de colaboradores:\")\n",
        "        for i, colaborador in enumerate(admissao, start=1):\n",
        "            print(f\"{i} - Nome: {colaborador['nome']}, Telefone: {colaborador['telefone']}, CPF: {colaborador['cpf']}, Sexo: {colaborador['sexo']}, Nascimento: {colaborador['nascimento']}, Idade: {calcular_idade(colaborador['nascimento'])}, Cargo: {colaborador['cargo']}, Setor: {colaborador['setor']}\")\n",
        "\n",
        "def calcular_idade(data_nascimento):\n",
        "    data_nascimento = datetime.strptime(data_nascimento, '%d/%m/%Y')\n",
        "    ano_atual = datetime.now().year\n",
        "    idade = ano_atual - data_nascimento.year\n",
        "    return idade\n",
        "\n",
        "def main():\n",
        "    admissao = nova_admissao()\n",
        "\n",
        "    while True:\n",
        "        print(\"\\nEscolha uma das opções abaixo:\")\n",
        "        print(\"1 - Adicionar colaborador\")\n",
        "        print(\"2 - Listar colaboradores\")\n",
        "        print(\"3 - Sair\")\n",
        "\n",
        "        escolha = input(\"Escolha uma opção: \")\n",
        "\n",
        "        if escolha == \"1\":\n",
        "            nome = input(\"Digite o nome do colaborador: \")\n",
        "            telefone = input(\"Digite o telefone do colaborador: \")\n",
        "            cpf = input(\"Digite o cpf do colaborador: \")\n",
        "            sexo = input(\"Digite o sexo do colaborador (Feminino, Masculino ou Prefiro Não Informar): \")\n",
        "            nascimento = input(\"Digite a data de nascimento do colaborador (no formato dd/mm/aaaa): \")\n",
        "            cargo = input(\"Digite o cargo do colaborador: \")\n",
        "            setor = input(\"Digite o setor do colaborador: \")\n",
        "            adicionar_colaborador(admissao, nome, telefone, cpf, sexo, nascimento, cargo, setor)\n",
        "            print(\"Colaborador adicionado com sucesso!\")\n",
        "\n",
        "        elif escolha == \"2\":\n",
        "            listar_colaboradores(admissao)\n",
        "\n",
        "        elif escolha == \"3\":\n",
        "            print(\"Saindo da lista.\")\n",
        "            break\n",
        "\n",
        "        else:\n",
        "            print(\"Opção inválida. Escolha novamente.\")\n",
        "\n",
        "if __name__ == \"__main__\":\n",
        "    main()"
      ]
    }
  ]
}